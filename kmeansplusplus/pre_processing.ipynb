{
 "cells": [
  {
   "cell_type": "code",
   "execution_count": 1,
   "id": "6ae45e69-5a3e-4581-bb2c-b9b07c9c1e62",
   "metadata": {
    "execution": {
     "iopub.execute_input": "2022-02-27T15:50:18.105389Z",
     "iopub.status.busy": "2022-02-27T15:50:18.104398Z",
     "iopub.status.idle": "2022-02-27T15:50:22.220627Z",
     "shell.execute_reply": "2022-02-27T15:50:22.218628Z",
     "shell.execute_reply.started": "2022-02-27T15:50:18.105389Z"
    },
    "tags": []
   },
   "outputs": [],
   "source": [
    "import numpy as np\n",
    "import matplotlib.pyplot as plt\n",
    "import seaborn as sns\n",
    "import pandas as pd\n",
    "import kmeansplusplus as k\n",
    "sns.set_theme(style='darkgrid')"
   ]
  },
  {
   "cell_type": "code",
   "execution_count": 3,
   "id": "5750a929-6baf-4ae1-a29c-2c931d935f94",
   "metadata": {
    "execution": {
     "iopub.execute_input": "2022-02-27T15:20:11.831508Z",
     "iopub.status.busy": "2022-02-27T15:20:11.830508Z",
     "iopub.status.idle": "2022-02-27T15:20:12.050986Z",
     "shell.execute_reply": "2022-02-27T15:20:12.048994Z",
     "shell.execute_reply.started": "2022-02-27T15:20:11.831508Z"
    },
    "tags": []
   },
   "outputs": [],
   "source": [
    "data = pd.read_csv(\"data/data.csv\")\n",
    "#sns.scatterplot(x=data[:, 0], y=data[:, 1])"
   ]
  },
  {
   "cell_type": "code",
   "execution_count": 17,
   "id": "445f5f84-ef9b-46d0-9219-b081c66743d4",
   "metadata": {
    "execution": {
     "iopub.execute_input": "2022-02-27T15:26:35.601277Z",
     "iopub.status.busy": "2022-02-27T15:26:35.601277Z",
     "iopub.status.idle": "2022-02-27T15:26:35.639282Z",
     "shell.execute_reply": "2022-02-27T15:26:35.638282Z",
     "shell.execute_reply.started": "2022-02-27T15:26:35.601277Z"
    },
    "tags": []
   },
   "outputs": [
    {
     "data": {
      "text/html": [
       "<div>\n",
       "<style scoped>\n",
       "    .dataframe tbody tr th:only-of-type {\n",
       "        vertical-align: middle;\n",
       "    }\n",
       "\n",
       "    .dataframe tbody tr th {\n",
       "        vertical-align: top;\n",
       "    }\n",
       "\n",
       "    .dataframe thead th {\n",
       "        text-align: right;\n",
       "    }\n",
       "</style>\n",
       "<table border=\"1\" class=\"dataframe\">\n",
       "  <thead>\n",
       "    <tr style=\"text-align: right;\">\n",
       "      <th></th>\n",
       "      <th>age</th>\n",
       "      <th>hypertension</th>\n",
       "      <th>heart_disease</th>\n",
       "      <th>Residence_type</th>\n",
       "      <th>avg_glucose_level</th>\n",
       "      <th>bmi</th>\n",
       "      <th>smoking_status</th>\n",
       "    </tr>\n",
       "  </thead>\n",
       "  <tbody>\n",
       "    <tr>\n",
       "      <th>0</th>\n",
       "      <td>0.019213</td>\n",
       "      <td>0</td>\n",
       "      <td>1</td>\n",
       "      <td>0</td>\n",
       "      <td>0.027722</td>\n",
       "      <td>0.017447</td>\n",
       "      <td>0.022243</td>\n",
       "    </tr>\n",
       "    <tr>\n",
       "      <th>1</th>\n",
       "      <td>0.017492</td>\n",
       "      <td>0</td>\n",
       "      <td>0</td>\n",
       "      <td>1</td>\n",
       "      <td>0.024512</td>\n",
       "      <td>0.000000</td>\n",
       "      <td>0.000000</td>\n",
       "    </tr>\n",
       "    <tr>\n",
       "      <th>2</th>\n",
       "      <td>0.022941</td>\n",
       "      <td>0</td>\n",
       "      <td>1</td>\n",
       "      <td>1</td>\n",
       "      <td>0.012840</td>\n",
       "      <td>0.015492</td>\n",
       "      <td>0.000000</td>\n",
       "    </tr>\n",
       "    <tr>\n",
       "      <th>3</th>\n",
       "      <td>0.014051</td>\n",
       "      <td>0</td>\n",
       "      <td>0</td>\n",
       "      <td>0</td>\n",
       "      <td>0.020757</td>\n",
       "      <td>0.016398</td>\n",
       "      <td>0.026692</td>\n",
       "    </tr>\n",
       "    <tr>\n",
       "      <th>4</th>\n",
       "      <td>0.022654</td>\n",
       "      <td>1</td>\n",
       "      <td>0</td>\n",
       "      <td>1</td>\n",
       "      <td>0.021107</td>\n",
       "      <td>0.011440</td>\n",
       "      <td>0.000000</td>\n",
       "    </tr>\n",
       "    <tr>\n",
       "      <th>...</th>\n",
       "      <td>...</td>\n",
       "      <td>...</td>\n",
       "      <td>...</td>\n",
       "      <td>...</td>\n",
       "      <td>...</td>\n",
       "      <td>...</td>\n",
       "      <td>...</td>\n",
       "    </tr>\n",
       "    <tr>\n",
       "      <th>5105</th>\n",
       "      <td>0.022941</td>\n",
       "      <td>1</td>\n",
       "      <td>0</td>\n",
       "      <td>0</td>\n",
       "      <td>0.010152</td>\n",
       "      <td>0.000000</td>\n",
       "      <td>0.000000</td>\n",
       "    </tr>\n",
       "    <tr>\n",
       "      <th>5106</th>\n",
       "      <td>0.023228</td>\n",
       "      <td>0</td>\n",
       "      <td>0</td>\n",
       "      <td>0</td>\n",
       "      <td>0.015177</td>\n",
       "      <td>0.019067</td>\n",
       "      <td>0.000000</td>\n",
       "    </tr>\n",
       "    <tr>\n",
       "      <th>5107</th>\n",
       "      <td>0.010037</td>\n",
       "      <td>0</td>\n",
       "      <td>0</td>\n",
       "      <td>1</td>\n",
       "      <td>0.010060</td>\n",
       "      <td>0.014587</td>\n",
       "      <td>0.000000</td>\n",
       "    </tr>\n",
       "    <tr>\n",
       "      <th>5108</th>\n",
       "      <td>0.014625</td>\n",
       "      <td>0</td>\n",
       "      <td>0</td>\n",
       "      <td>1</td>\n",
       "      <td>0.020158</td>\n",
       "      <td>0.012203</td>\n",
       "      <td>0.022243</td>\n",
       "    </tr>\n",
       "    <tr>\n",
       "      <th>5109</th>\n",
       "      <td>0.012618</td>\n",
       "      <td>0</td>\n",
       "      <td>0</td>\n",
       "      <td>0</td>\n",
       "      <td>0.010338</td>\n",
       "      <td>0.012489</td>\n",
       "      <td>0.000000</td>\n",
       "    </tr>\n",
       "  </tbody>\n",
       "</table>\n",
       "<p>5110 rows × 7 columns</p>\n",
       "</div>"
      ],
      "text/plain": [
       "           age  hypertension  heart_disease  Residence_type  \\\n",
       "0     0.019213             0              1               0   \n",
       "1     0.017492             0              0               1   \n",
       "2     0.022941             0              1               1   \n",
       "3     0.014051             0              0               0   \n",
       "4     0.022654             1              0               1   \n",
       "...        ...           ...            ...             ...   \n",
       "5105  0.022941             1              0               0   \n",
       "5106  0.023228             0              0               0   \n",
       "5107  0.010037             0              0               1   \n",
       "5108  0.014625             0              0               1   \n",
       "5109  0.012618             0              0               0   \n",
       "\n",
       "      avg_glucose_level       bmi  smoking_status  \n",
       "0              0.027722  0.017447        0.022243  \n",
       "1              0.024512  0.000000        0.000000  \n",
       "2              0.012840  0.015492        0.000000  \n",
       "3              0.020757  0.016398        0.026692  \n",
       "4              0.021107  0.011440        0.000000  \n",
       "...                 ...       ...             ...  \n",
       "5105           0.010152  0.000000        0.000000  \n",
       "5106           0.015177  0.019067        0.000000  \n",
       "5107           0.010060  0.014587        0.000000  \n",
       "5108           0.020158  0.012203        0.022243  \n",
       "5109           0.010338  0.012489        0.000000  \n",
       "\n",
       "[5110 rows x 7 columns]"
      ]
     },
     "execution_count": 17,
     "metadata": {},
     "output_type": "execute_result"
    }
   ],
   "source": [
    "data"
   ]
  },
  {
   "cell_type": "code",
   "execution_count": 15,
   "id": "2ecad0c4-f3ef-439b-ab1f-cf31bf5d44c4",
   "metadata": {
    "execution": {
     "iopub.execute_input": "2022-02-27T15:25:58.496164Z",
     "iopub.status.busy": "2022-02-27T15:25:58.496164Z",
     "iopub.status.idle": "2022-02-27T15:25:58.517165Z",
     "shell.execute_reply": "2022-02-27T15:25:58.515177Z",
     "shell.execute_reply.started": "2022-02-27T15:25:58.496164Z"
    },
    "tags": []
   },
   "outputs": [],
   "source": [
    "data = data.drop(['id','gender','ever_married','work_type','stroke'],axis=1)"
   ]
  },
  {
   "cell_type": "code",
   "execution_count": 16,
   "id": "94ee0dd8-93ed-4779-abe1-af7417d9638d",
   "metadata": {
    "execution": {
     "iopub.execute_input": "2022-02-27T15:26:00.293052Z",
     "iopub.status.busy": "2022-02-27T15:26:00.293052Z",
     "iopub.status.idle": "2022-02-27T15:26:00.362054Z",
     "shell.execute_reply": "2022-02-27T15:26:00.361055Z",
     "shell.execute_reply.started": "2022-02-27T15:26:00.293052Z"
    },
    "tags": []
   },
   "outputs": [],
   "source": [
    "data.to_csv(\"data/data.csv\")"
   ]
  }
 ],
 "metadata": {
  "kernelspec": {
   "display_name": "Python 3 (ipykernel)",
   "language": "python",
   "name": "python3"
  },
  "language_info": {
   "codemirror_mode": {
    "name": "ipython",
    "version": 3
   },
   "file_extension": ".py",
   "mimetype": "text/x-python",
   "name": "python",
   "nbconvert_exporter": "python",
   "pygments_lexer": "ipython3",
   "version": "3.8.12"
  }
 },
 "nbformat": 4,
 "nbformat_minor": 5
}
