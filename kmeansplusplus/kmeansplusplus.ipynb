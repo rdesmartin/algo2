{
 "cells": [
  {
   "cell_type": "code",
   "execution_count": 1,
   "outputs": [],
   "source": [
    "import numpy as np"
   ],
   "metadata": {
    "collapsed": false,
    "pycharm": {
     "name": "#%%\n"
    }
   }
  },
  {
   "cell_type": "code",
   "execution_count": 4,
   "outputs": [
    {
     "name": "stdout",
     "output_type": "stream",
     "text": [
      "(6000, 2)\n"
     ]
    }
   ],
   "source": [
    "data = np.load(\"data/data.npy\")\n",
    "print(data.shape)"
   ],
   "metadata": {
    "collapsed": false,
    "pycharm": {
     "name": "#%%\n"
    }
   }
  },
  {
   "cell_type": "code",
   "execution_count": null,
   "outputs": [],
   "source": [
    "def euclidian_distance(a, b):\n",
    "    np.sqrt(sum(a - b) **2)\n",
    "\n",
    "def init_centroid(centroids, data, distance=euclidian_distance):\n",
    "    distances = [min([distance(point, x) for point in centroids]) for x in data]\n",
    "    probabilities = distances / sum(distances)\n",
    "    new_centroid = np.random.choice(len(probabilities), p=probabilities)\n",
    "    return data[new_centroid]"
   ],
   "metadata": {
    "collapsed": false,
    "pycharm": {
     "name": "#%%\n"
    }
   }
  },
  {
   "cell_type": "code",
   "execution_count": null,
   "outputs": [],
   "source": [
    "CENTROID_NB = 3\n",
    "\n",
    "centroid0 = data[np.random.randint(len(data))]\n",
    "\n",
    "centroids = [centroid0]\n",
    "\n",
    "for i in range(CENTROID_NB - 1):\n",
    "    centroids.append(init_centroid(centroids[-1]))"
   ],
   "metadata": {
    "collapsed": false,
    "pycharm": {
     "name": "#%%\n"
    }
   }
  },
  {
   "cell_type": "code",
   "execution_count": null,
   "outputs": [],
   "source": [
    "def init_clusters(data, centroids, distance=euclidian_distance):\n",
    "    cluster_assignations = []\n",
    "    for x, i in enumerate(data):\n",
    "        distances = [distance(x, point) for point in centroids]\n",
    "        cluster_assignations[i] = np.argmin(distances)\n",
    "    return cluster_assignations"
   ],
   "metadata": {
    "collapsed": false,
    "pycharm": {
     "name": "#%%\n"
    }
   }
  },
  {
   "cell_type": "code",
   "execution_count": null,
   "outputs": [],
   "source": [
    "def update_clusters(data, centroids, cluster_assignations):\n",
    "    for i in range(len(centroids)):\n",
    "        cluster_data = np.where(cluster_assignations == centroids[i], data)\n",
    "        centroids[i] = np.mean(cluster_data)\n",
    "    return centroids"
   ],
   "metadata": {
    "collapsed": false,
    "pycharm": {
     "name": "#%%\n"
    }
   }
  },
  {
   "cell_type": "code",
   "execution_count": null,
   "outputs": [],
   "source": [
    "def k_means_iteration(data, centroids):\n",
    "    return  "
   ],
   "metadata": {
    "collapsed": false,
    "pycharm": {
     "name": "#%%\n"
    }
   }
  }
 ],
 "metadata": {
  "kernelspec": {
   "display_name": "Python 3 (ipykernel)",
   "language": "python",
   "name": "python3"
  },
  "language_info": {
   "codemirror_mode": {
    "name": "ipython",
    "version": 3
   },
   "file_extension": ".py",
   "mimetype": "text/x-python",
   "name": "python",
   "nbconvert_exporter": "python",
   "pygments_lexer": "ipython3",
   "version": "3.9.7"
  }
 },
 "nbformat": 4,
 "nbformat_minor": 5
}